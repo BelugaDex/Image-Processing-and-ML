{
  "nbformat": 4,
  "nbformat_minor": 0,
  "metadata": {
    "colab": {
      "provenance": [],
      "gpuType": "V28",
      "authorship_tag": "ABX9TyPLuaKcfJHxayDL8hrDJ3Qu",
      "include_colab_link": true
    },
    "kernelspec": {
      "name": "python3",
      "display_name": "Python 3"
    },
    "language_info": {
      "name": "python"
    },
    "accelerator": "TPU"
  },
  "cells": [
    {
      "cell_type": "markdown",
      "metadata": {
        "id": "view-in-github",
        "colab_type": "text"
      },
      "source": [
        "<a href=\"https://colab.research.google.com/github/BelugaDex/Image-Processing-and-ML/blob/main/Image_Detection_Cat_Dog_Cow.ipynb\" target=\"_parent\"><img src=\"https://colab.research.google.com/assets/colab-badge.svg\" alt=\"Open In Colab\"/></a>"
      ]
    },
    {
      "cell_type": "code",
      "execution_count": null,
      "metadata": {
        "id": "WRftyXPn1SNW"
      },
      "outputs": [],
      "source": [
        "!mkdir -p ~/.kaggle\n",
        "!cp kaggle.json ~/.kaggle/"
      ]
    },
    {
      "cell_type": "code",
      "source": [
        "!kaggle datasets download -d biswarajdey/cat-cow-dog-image-detection-for-beginners"
      ],
      "metadata": {
        "colab": {
          "base_uri": "https://localhost:8080/"
        },
        "id": "TMRbu0uaLWGN",
        "outputId": "161fda8b-ea8d-4b92-8239-a1a5a73952b1"
      },
      "execution_count": null,
      "outputs": [
        {
          "output_type": "stream",
          "name": "stdout",
          "text": [
            "Warning: Your Kaggle API key is readable by other users on this system! To fix this, you can run 'chmod 600 /root/.kaggle/kaggle.json'\n",
            "Warning: Looks like you're using an outdated API Version, please consider updating (server 1.6.17 / client 1.6.14)\n",
            "Dataset URL: https://www.kaggle.com/datasets/biswarajdey/cat-cow-dog-image-detection-for-beginners\n",
            "License(s): unknown\n",
            "Downloading cat-cow-dog-image-detection-for-beginners.zip to /content\n",
            "  0% 0.00/323k [00:00<?, ?B/s]\n",
            "100% 323k/323k [00:00<00:00, 143MB/s]\n"
          ]
        }
      ]
    },
    {
      "cell_type": "code",
      "source": [
        "import zipfile\n",
        "zip_ref = zipfile.ZipFile('/content/cat-cow-dog-image-detection-for-beginners.zip', 'r')\n",
        "zip_ref.extractall('/content')\n",
        "zip_ref.close()"
      ],
      "metadata": {
        "id": "oxAkPp5JL6iv"
      },
      "execution_count": null,
      "outputs": []
    },
    {
      "cell_type": "code",
      "source": [
        "import tensorflow as tf\n",
        "from tensorflow import keras\n",
        "from keras.models import Sequential\n",
        "from keras.layers import Dense, Conv2D, MaxPooling2D, Flatten\n",
        "from tensorflow.keras import datasets, models, layers"
      ],
      "metadata": {
        "id": "nnlDoLqlMFdJ"
      },
      "execution_count": null,
      "outputs": []
    },
    {
      "cell_type": "code",
      "source": [
        "import csv\n",
        "from PIL import Image\n",
        "import numpy as np\n",
        "import os\n",
        "\n",
        "\n",
        "directories = {\n",
        "    'cat': '/content/train/cat',\n",
        "    'cow': '/content/train/cow',\n",
        "    'dog': '/content/train/dog'\n",
        "}\n",
        "\n",
        "csv_file_path = 'animal_images_train_data.csv'\n",
        "\n",
        "image_data = []\n",
        "column_names = []\n",
        "\n",
        "for animal, directory in directories.items():\n",
        "    for i in range(1, 11):\n",
        "        image_path = os.path.join(directory, f'{animal}{i}.jpg')\n",
        "        image = Image.open(image_path)\n",
        "        image = image.resize((255, 255))\n",
        "        image_array = np.array(image)\n",
        "        flattened_image_array = image_array.flatten()\n",
        "        image_data.append(flattened_image_array)\n",
        "        column_names.append(f'{animal}{i}')\n",
        "transposed_image_data = np.array(image_data).T\n",
        "\n",
        "with open(csv_file_path, 'w', newline='') as csvfile:\n",
        "    csvwriter = csv.writer(csvfile)\n",
        "    csvwriter.writerow(column_names)\n",
        "    csvwriter.writerows(transposed_image_data)\n",
        "\n",
        "print(f\"Image data successfully written to {csv_file_path}\")\n"
      ],
      "metadata": {
        "id": "epQhWDVBIGKW",
        "colab": {
          "base_uri": "https://localhost:8080/"
        },
        "outputId": "577d303b-13ab-4b47-c9c7-6ee31a5f895d"
      },
      "execution_count": null,
      "outputs": [
        {
          "output_type": "stream",
          "name": "stdout",
          "text": [
            "Image data successfully written to animal_images_train_data.csv\n"
          ]
        }
      ]
    },
    {
      "cell_type": "code",
      "source": [
        "# import pandas as pd\n",
        "# import numpy as np\n",
        "# from keras.utils import to_categorical\n",
        "# csv_file_path = 'animal_images_train_data.csv'\n",
        "# data = pd.read_csv(csv_file_path)\n",
        "# column_names = data.columns\n",
        "# image_data = data.values\n",
        "# image_data = image_data.T\n",
        "# num_images = image_data.shape[0]\n",
        "# images = image_data.reshape((num_images, 255, 255, 3))\n",
        "\n",
        "# images = images / 255.0\n",
        "\n",
        "# labels = []\n",
        "# label_mapping = {'cat': 0, 'dog': 1, 'cow': 2}\n",
        "\n",
        "# for name in column_names:\n",
        "#     animal_type = ''.join([char for char in name if not char.isdigit()])\n",
        "#     labels.append(label_mapping[animal_type])\n",
        "\n",
        "# labels = np.array(labels)\n",
        "\n",
        "# labels = to_categorical(labels, num_classes=3)"
      ],
      "metadata": {
        "id": "a6JNDpM5b8RK"
      },
      "execution_count": null,
      "outputs": []
    },
    {
      "cell_type": "code",
      "source": [
        "import pandas as pd\n",
        "import numpy as np\n",
        "from keras.utils import to_categorical\n",
        "\n",
        "# Load the CSV file\n",
        "csv_file_path = 'animal_images_train_data.csv'\n",
        "data = pd.read_csv(csv_file_path)\n",
        "\n",
        "# Extract the column names (used for labels later)\n",
        "column_names = data.columns\n",
        "\n",
        "# Determine the number of images\n",
        "num_images = data.shape[1]\n",
        "\n",
        "# Calculate the number of elements each image should have\n",
        "image_size = 255 * 255 * 3\n",
        "\n",
        "# Check if the total number of elements matches the expected shape\n",
        "if data.size != num_images * image_size:\n",
        "    raise ValueError(\"The data cannot be reshaped into the shape (num_images, 255, 255, 3)\")\n",
        "\n",
        "# Reshape the image data\n",
        "images = data.values.T.reshape((num_images, 255, 255, 3))\n",
        "\n",
        "# Normalize the image data\n",
        "images = images / 255.0\n",
        "\n",
        "# Prepare the labels\n",
        "labels = []\n",
        "label_mapping = {'cat': 0, 'dog': 1, 'cow': 2}\n",
        "\n",
        "for name in column_names:\n",
        "    # Extract the animal type from the column name\n",
        "    animal_type = ''.join([char for char in name if not char.isdigit()])\n",
        "    labels.append(label_mapping[animal_type])\n",
        "\n",
        "# Convert the labels to a NumPy array\n",
        "labels = np.array(labels)\n",
        "\n",
        "# One-hot encode the labels\n",
        "labels = to_categorical(labels, num_classes=3)\n",
        "\n",
        "print(\"Images shape:\", images.shape)\n",
        "print(\"Labels shape:\", labels.shape)\n"
      ],
      "metadata": {
        "id": "zVi30ZHoWWfq",
        "colab": {
          "base_uri": "https://localhost:8080/"
        },
        "outputId": "6ce68410-6686-49c9-fcab-b07a76bf2b7d"
      },
      "execution_count": null,
      "outputs": [
        {
          "output_type": "stream",
          "name": "stdout",
          "text": [
            "Images shape: (30, 255, 255, 3)\n",
            "Labels shape: (30, 3)\n"
          ]
        }
      ]
    },
    {
      "cell_type": "code",
      "source": [
        "# CM CM CM\n",
        "model = models.Sequential()\n",
        "model.add(layers.Conv2D(32, (3, 3), activation='relu', input_shape=(255, 255, 3)))\n",
        "model.add(layers.MaxPooling2D(2, 2))\n",
        "\n",
        "model.add(layers.Conv2D(64, (3, 3), activation='relu'))\n",
        "model.add(layers.MaxPooling2D(2, 2))\n",
        "\n",
        "model.add(layers.Conv2D(128, (3, 3), activation='relu'))\n",
        "model.add(layers.MaxPooling2D(2, 2))\n",
        "\n",
        "model.add(layers.Flatten())\n",
        "\n",
        "model.add(layers.Dense(128, activation='relu'))\n",
        "model.add(layers.Dense(64, activation='relu'))\n",
        "model.add(layers.Dense(3, activation='softmax'))"
      ],
      "metadata": {
        "id": "V4zh3LR4cIXw"
      },
      "execution_count": null,
      "outputs": []
    },
    {
      "cell_type": "code",
      "source": [
        "model.summary()"
      ],
      "metadata": {
        "id": "g0RI1qNrcnLM",
        "colab": {
          "base_uri": "https://localhost:8080/"
        },
        "outputId": "6c08635a-bcca-49e9-eb0c-7003e5fd2186"
      },
      "execution_count": null,
      "outputs": [
        {
          "output_type": "stream",
          "name": "stdout",
          "text": [
            "Model: \"sequential\"\n",
            "_________________________________________________________________\n",
            " Layer (type)                Output Shape              Param #   \n",
            "=================================================================\n",
            " conv2d (Conv2D)             (None, 253, 253, 32)      896       \n",
            "                                                                 \n",
            " max_pooling2d (MaxPooling2  (None, 126, 126, 32)      0         \n",
            " D)                                                              \n",
            "                                                                 \n",
            " conv2d_1 (Conv2D)           (None, 124, 124, 64)      18496     \n",
            "                                                                 \n",
            " max_pooling2d_1 (MaxPoolin  (None, 62, 62, 64)        0         \n",
            " g2D)                                                            \n",
            "                                                                 \n",
            " conv2d_2 (Conv2D)           (None, 60, 60, 128)       73856     \n",
            "                                                                 \n",
            " max_pooling2d_2 (MaxPoolin  (None, 30, 30, 128)       0         \n",
            " g2D)                                                            \n",
            "                                                                 \n",
            " flatten (Flatten)           (None, 115200)            0         \n",
            "                                                                 \n",
            " dense (Dense)               (None, 128)               14745728  \n",
            "                                                                 \n",
            " dense_1 (Dense)             (None, 64)                8256      \n",
            "                                                                 \n",
            " dense_2 (Dense)             (None, 3)                 195       \n",
            "                                                                 \n",
            "=================================================================\n",
            "Total params: 14847427 (56.64 MB)\n",
            "Trainable params: 14847427 (56.64 MB)\n",
            "Non-trainable params: 0 (0.00 Byte)\n",
            "_________________________________________________________________\n"
          ]
        }
      ]
    },
    {
      "cell_type": "code",
      "source": [
        "model.compile(optimizer='adam', loss='categorical_crossentropy', metrics=['accuracy'])\n",
        "history=model.fit(images, labels, epochs=20, batch_size=4, validation_split=0.1)"
      ],
      "metadata": {
        "colab": {
          "base_uri": "https://localhost:8080/"
        },
        "id": "dh_-CMsncvza",
        "outputId": "f52193c8-1544-444e-f58d-cf4a8ffb1231"
      },
      "execution_count": null,
      "outputs": [
        {
          "output_type": "stream",
          "name": "stdout",
          "text": [
            "Epoch 1/20\n",
            "7/7 [==============================] - 2s 197ms/step - loss: 1.4965 - accuracy: 0.4815 - val_loss: 1.1677 - val_accuracy: 0.0000e+00\n",
            "Epoch 2/20\n",
            "7/7 [==============================] - 1s 158ms/step - loss: 0.6831 - accuracy: 0.7407 - val_loss: 0.8180 - val_accuracy: 0.6667\n",
            "Epoch 3/20\n",
            "7/7 [==============================] - 1s 150ms/step - loss: 0.3571 - accuracy: 0.9630 - val_loss: 0.1766 - val_accuracy: 1.0000\n",
            "Epoch 4/20\n",
            "7/7 [==============================] - 1s 140ms/step - loss: 0.1775 - accuracy: 0.9259 - val_loss: 0.3297 - val_accuracy: 1.0000\n",
            "Epoch 5/20\n",
            "7/7 [==============================] - 1s 135ms/step - loss: 0.0430 - accuracy: 0.9630 - val_loss: 2.7493 - val_accuracy: 0.0000e+00\n",
            "Epoch 6/20\n",
            "7/7 [==============================] - 1s 137ms/step - loss: 0.8294 - accuracy: 0.9259 - val_loss: 0.0590 - val_accuracy: 1.0000\n",
            "Epoch 7/20\n",
            "7/7 [==============================] - 1s 137ms/step - loss: 0.1819 - accuracy: 0.9630 - val_loss: 0.8886 - val_accuracy: 0.3333\n",
            "Epoch 8/20\n",
            "7/7 [==============================] - 1s 130ms/step - loss: 0.1498 - accuracy: 0.9630 - val_loss: 0.2554 - val_accuracy: 1.0000\n",
            "Epoch 9/20\n",
            "7/7 [==============================] - 1s 154ms/step - loss: 0.0930 - accuracy: 0.9630 - val_loss: 1.2012 - val_accuracy: 0.0000e+00\n",
            "Epoch 10/20\n",
            "7/7 [==============================] - 1s 142ms/step - loss: 0.0098 - accuracy: 1.0000 - val_loss: 0.2109 - val_accuracy: 1.0000\n",
            "Epoch 11/20\n",
            "7/7 [==============================] - 1s 141ms/step - loss: 0.0020 - accuracy: 1.0000 - val_loss: 0.9283 - val_accuracy: 0.3333\n",
            "Epoch 12/20\n",
            "7/7 [==============================] - 1s 138ms/step - loss: 4.5371e-04 - accuracy: 1.0000 - val_loss: 0.6790 - val_accuracy: 0.3333\n",
            "Epoch 13/20\n",
            "7/7 [==============================] - 1s 134ms/step - loss: 3.1405e-05 - accuracy: 1.0000 - val_loss: 0.5479 - val_accuracy: 0.3333\n",
            "Epoch 14/20\n",
            "7/7 [==============================] - 1s 143ms/step - loss: 1.2278e-05 - accuracy: 1.0000 - val_loss: 0.4796 - val_accuracy: 0.6667\n",
            "Epoch 15/20\n",
            "7/7 [==============================] - 1s 140ms/step - loss: 7.5763e-06 - accuracy: 1.0000 - val_loss: 0.4494 - val_accuracy: 1.0000\n",
            "Epoch 16/20\n",
            "7/7 [==============================] - 1s 144ms/step - loss: 6.2915e-06 - accuracy: 1.0000 - val_loss: 0.4346 - val_accuracy: 1.0000\n",
            "Epoch 17/20\n",
            "7/7 [==============================] - 1s 138ms/step - loss: 5.6204e-06 - accuracy: 1.0000 - val_loss: 0.4266 - val_accuracy: 1.0000\n",
            "Epoch 18/20\n",
            "7/7 [==============================] - 1s 144ms/step - loss: 5.3688e-06 - accuracy: 1.0000 - val_loss: 0.4230 - val_accuracy: 1.0000\n",
            "Epoch 19/20\n",
            "7/7 [==============================] - 1s 139ms/step - loss: 5.1171e-06 - accuracy: 1.0000 - val_loss: 0.4211 - val_accuracy: 1.0000\n",
            "Epoch 20/20\n",
            "7/7 [==============================] - 1s 142ms/step - loss: 5.0067e-06 - accuracy: 1.0000 - val_loss: 0.4212 - val_accuracy: 1.0000\n"
          ]
        }
      ]
    },
    {
      "cell_type": "code",
      "source": [
        "import matplotlib.pyplot as plt\n",
        "\n",
        "plt.plot(history.history['accuracy'],color='red',label='train')\n",
        "plt.plot(history.history['val_accuracy'],color='blue',label='validation')\n",
        "plt.legend()\n",
        "plt.show()"
      ],
      "metadata": {
        "id": "3MO4nifIcyd5",
        "colab": {
          "base_uri": "https://localhost:8080/",
          "height": 430
        },
        "outputId": "276994b1-b7e9-4358-be82-ab82f708383c"
      },
      "execution_count": null,
      "outputs": [
        {
          "output_type": "display_data",
          "data": {
            "text/plain": [
              "<Figure size 640x480 with 1 Axes>"
            ],
            "image/png": "[encoded data removed]"
          },
          "metadata": {}
        }
      ]
    },
    {
      "cell_type": "code",
      "source": [
        "plt.plot(history.history['loss'],color='red',label='train')\n",
        "plt.plot(history.history['val_loss'],color='blue',label='validation')\n",
        "plt.legend()\n",
        "plt.show()"
      ],
      "metadata": {
        "id": "DkNTk20Rc_nG",
        "colab": {
          "base_uri": "https://localhost:8080/",
          "height": 430
        },
        "outputId": "688b3e21-9159-4855-f9b9-f44a5b82ef1c"
      },
      "execution_count": null,
      "outputs": [
        {
          "output_type": "display_data",
          "data": {
            "text/plain": [
              "<Figure size 640x480 with 1 Axes>"
            ],
            "image/png": "[encoded data removed]"
          },
          "metadata": {}
        }
      ]
    },
    {
      "cell_type": "code",
      "source": [
        "import cv2"
      ],
      "metadata": {
        "id": "aoYBqiDrdB1k"
      },
      "execution_count": null,
      "outputs": []
    },
    {
      "cell_type": "code",
      "source": [
        "test_img = cv2.imread('/content/test/cow_test/cow_3.jpg')\n",
        "test_img = cv2.resize(test_img, (255, 255))\n",
        "test_img = test_img / 255.0\n",
        "test_input = test_img.reshape((1, 255, 255, 3))\n",
        "model.predict(test_input)"
      ],
      "metadata": {
        "id": "HTXiaHrxdZrt",
        "colab": {
          "base_uri": "https://localhost:8080/"
        },
        "outputId": "4722b523-8ac7-4273-e04c-5119675a6270"
      },
      "execution_count": null,
      "outputs": [
        {
          "output_type": "stream",
          "name": "stdout",
          "text": [
            "1/1 [==============================] - 0s 131ms/step\n"
          ]
        },
        {
          "output_type": "execute_result",
          "data": {
            "text/plain": [
              "array([[1.5658564e-08, 1.6905205e-05, 9.9998307e-01]], dtype=float32)"
            ]
          },
          "metadata": {},
          "execution_count": 14
        }
      ]
    },
    {
      "cell_type": "code",
      "source": [
        "test_img = cv2.imread('/content/test/cat_test/cat_2.jpg')\n",
        "test_img = cv2.resize(test_img, (255, 255))\n",
        "test_img = test_img / 255.0\n",
        "test_input = test_img.reshape((1, 255, 255, 3))\n",
        "model.predict(test_input)"
      ],
      "metadata": {
        "id": "AiiNNbnMsvNz",
        "colab": {
          "base_uri": "https://localhost:8080/"
        },
        "outputId": "6bda5e7d-6a4b-4a37-968a-000440b79f75"
      },
      "execution_count": null,
      "outputs": [
        {
          "output_type": "stream",
          "name": "stdout",
          "text": [
            "1/1 [==============================] - 0s 41ms/step\n"
          ]
        },
        {
          "output_type": "execute_result",
          "data": {
            "text/plain": [
              "array([[4.3734087e-04, 9.3901300e-01, 6.0549635e-02]], dtype=float32)"
            ]
          },
          "metadata": {},
          "execution_count": 15
        }
      ]
    },
    {
      "cell_type": "code",
      "source": [
        "test_img = cv2.imread('/content/test/dog_test/dog_1.jpg')\n",
        "test_img = cv2.resize(test_img, (255, 255))\n",
        "test_img = test_img / 255.0\n",
        "test_input = test_img.reshape((1, 255, 255, 3))\n",
        "model.predict(test_input)"
      ],
      "metadata": {
        "id": "ern00PK5s1EN",
        "colab": {
          "base_uri": "https://localhost:8080/"
        },
        "outputId": "55b8f483-97ad-4680-89cd-1650071cc335"
      },
      "execution_count": null,
      "outputs": [
        {
          "output_type": "stream",
          "name": "stdout",
          "text": [
            "1/1 [==============================] - 0s 39ms/step\n"
          ]
        },
        {
          "output_type": "execute_result",
          "data": {
            "text/plain": [
              "array([[1.2541996e-06, 6.3852227e-01, 3.6147651e-01]], dtype=float32)"
            ]
          },
          "metadata": {},
          "execution_count": 16
        }
      ]
    },
    {
      "cell_type": "code",
      "source": [
        "# CCM CCM CCM\n",
        "model = models.Sequential()\n",
        "model.add(layers.Conv2D(32, (3, 3), activation='relu', input_shape=(255, 255, 3)))\n",
        "model.add(layers.Conv2D(32, (3, 3), activation='relu'))\n",
        "model.add(layers.MaxPooling2D(2, 2))\n",
        "\n",
        "model.add(layers.Conv2D(64, (3, 3), activation='relu'))\n",
        "model.add(layers.Conv2D(64, (3, 3), activation='relu'))\n",
        "model.add(layers.MaxPooling2D(2, 2))\n",
        "\n",
        "model.add(layers.Conv2D(128, (3, 3), activation='relu'))\n",
        "model.add(layers.Conv2D(128, (3, 3), activation='relu'))\n",
        "model.add(layers.MaxPooling2D(2, 2))\n",
        "\n",
        "model.add(layers.Flatten())\n",
        "\n",
        "model.add(layers.Dense(128, activation='relu'))\n",
        "model.add(layers.Dense(64, activation='relu'))\n",
        "model.add(layers.Dense(3, activation='softmax'))"
      ],
      "metadata": {
        "id": "0mE8gvq9s9WY"
      },
      "execution_count": null,
      "outputs": []
    },
    {
      "cell_type": "code",
      "source": [
        "model.summary()"
      ],
      "metadata": {
        "id": "fPwnRmXAbgaK",
        "colab": {
          "base_uri": "https://localhost:8080/"
        },
        "outputId": "4eb76d8e-e1e4-4a97-99db-088f1cf8ee18"
      },
      "execution_count": null,
      "outputs": [
        {
          "output_type": "stream",
          "name": "stdout",
          "text": [
            "Model: \"sequential_1\"\n",
            "_________________________________________________________________\n",
            " Layer (type)                Output Shape              Param #   \n",
            "=================================================================\n",
            " conv2d_3 (Conv2D)           (None, 253, 253, 32)      896       \n",
            "                                                                 \n",
            " conv2d_4 (Conv2D)           (None, 251, 251, 32)      9248      \n",
            "                                                                 \n",
            " max_pooling2d_3 (MaxPoolin  (None, 125, 125, 32)      0         \n",
            " g2D)                                                            \n",
            "                                                                 \n",
            " conv2d_5 (Conv2D)           (None, 123, 123, 64)      18496     \n",
            "                                                                 \n",
            " conv2d_6 (Conv2D)           (None, 121, 121, 64)      36928     \n",
            "                                                                 \n",
            " max_pooling2d_4 (MaxPoolin  (None, 60, 60, 64)        0         \n",
            " g2D)                                                            \n",
            "                                                                 \n",
            " conv2d_7 (Conv2D)           (None, 58, 58, 128)       73856     \n",
            "                                                                 \n",
            " conv2d_8 (Conv2D)           (None, 56, 56, 128)       147584    \n",
            "                                                                 \n",
            " max_pooling2d_5 (MaxPoolin  (None, 28, 28, 128)       0         \n",
            " g2D)                                                            \n",
            "                                                                 \n",
            " flatten_1 (Flatten)         (None, 100352)            0         \n",
            "                                                                 \n",
            " dense_3 (Dense)             (None, 128)               12845184  \n",
            "                                                                 \n",
            " dense_4 (Dense)             (None, 64)                8256      \n",
            "                                                                 \n",
            " dense_5 (Dense)             (None, 3)                 195       \n",
            "                                                                 \n",
            "=================================================================\n",
            "Total params: 13140643 (50.13 MB)\n",
            "Trainable params: 13140643 (50.13 MB)\n",
            "Non-trainable params: 0 (0.00 Byte)\n",
            "_________________________________________________________________\n"
          ]
        }
      ]
    },
    {
      "cell_type": "code",
      "source": [
        "model.compile(optimizer='adam', loss='categorical_crossentropy', metrics=['accuracy'])\n",
        "history=model.fit(images, labels, epochs=80, batch_size=4, validation_split=0.1)"
      ],
      "metadata": {
        "id": "aCp1ZeGabjz-",
        "colab": {
          "base_uri": "https://localhost:8080/"
        },
        "outputId": "e28d187b-1503-4b52-d839-f2f4710e36ec"
      },
      "execution_count": null,
      "outputs": [
        {
          "output_type": "stream",
          "name": "stdout",
          "text": [
            "Epoch 1/80\n",
            "7/7 [==============================] - 4s 341ms/step - loss: 1.1721 - accuracy: 0.2593 - val_loss: 1.1743 - val_accuracy: 0.0000e+00\n",
            "Epoch 2/80\n",
            "7/7 [==============================] - 2s 296ms/step - loss: 0.9850 - accuracy: 0.5556 - val_loss: 1.2616 - val_accuracy: 0.0000e+00\n",
            "Epoch 3/80\n",
            "7/7 [==============================] - 2s 292ms/step - loss: 0.6642 - accuracy: 0.7037 - val_loss: 0.7455 - val_accuracy: 0.6667\n",
            "Epoch 4/80\n",
            "7/7 [==============================] - 2s 305ms/step - loss: 0.6001 - accuracy: 0.7407 - val_loss: 1.4545 - val_accuracy: 0.0000e+00\n",
            "Epoch 5/80\n",
            "7/7 [==============================] - 2s 308ms/step - loss: 0.2616 - accuracy: 0.8519 - val_loss: 1.3032 - val_accuracy: 0.3333\n",
            "Epoch 6/80\n",
            "7/7 [==============================] - 2s 281ms/step - loss: 0.1392 - accuracy: 1.0000 - val_loss: 2.0704 - val_accuracy: 0.3333\n",
            "Epoch 7/80\n",
            "7/7 [==============================] - 2s 299ms/step - loss: 1.4359 - accuracy: 0.7778 - val_loss: 0.2032 - val_accuracy: 1.0000\n",
            "Epoch 8/80\n",
            "7/7 [==============================] - 2s 294ms/step - loss: 0.3724 - accuracy: 0.8889 - val_loss: 0.4415 - val_accuracy: 0.6667\n",
            "Epoch 9/80\n",
            "7/7 [==============================] - 2s 294ms/step - loss: 0.2122 - accuracy: 0.9259 - val_loss: 0.0074 - val_accuracy: 1.0000\n",
            "Epoch 10/80\n",
            "7/7 [==============================] - 2s 304ms/step - loss: 1.1286 - accuracy: 0.8148 - val_loss: 1.0423 - val_accuracy: 0.3333\n",
            "Epoch 11/80\n",
            "7/7 [==============================] - 2s 306ms/step - loss: 0.3099 - accuracy: 0.8889 - val_loss: 0.8173 - val_accuracy: 0.3333\n",
            "Epoch 12/80\n",
            "7/7 [==============================] - 2s 299ms/step - loss: 0.2380 - accuracy: 0.9259 - val_loss: 2.8587 - val_accuracy: 0.0000e+00\n",
            "Epoch 13/80\n",
            "7/7 [==============================] - 2s 302ms/step - loss: 0.3751 - accuracy: 0.8148 - val_loss: 1.2714 - val_accuracy: 0.3333\n",
            "Epoch 14/80\n",
            "7/7 [==============================] - 2s 301ms/step - loss: 0.0291 - accuracy: 1.0000 - val_loss: 0.9945 - val_accuracy: 0.6667\n",
            "Epoch 15/80\n",
            "7/7 [==============================] - 2s 306ms/step - loss: 0.0072 - accuracy: 1.0000 - val_loss: 1.4441 - val_accuracy: 0.3333\n",
            "Epoch 16/80\n",
            "7/7 [==============================] - 2s 304ms/step - loss: 0.0029 - accuracy: 1.0000 - val_loss: 1.4752 - val_accuracy: 0.3333\n",
            "Epoch 17/80\n",
            "7/7 [==============================] - 2s 295ms/step - loss: 2.9001e-04 - accuracy: 1.0000 - val_loss: 1.6014 - val_accuracy: 0.3333\n",
            "Epoch 18/80\n",
            "7/7 [==============================] - 2s 287ms/step - loss: 1.3305e-04 - accuracy: 1.0000 - val_loss: 1.7601 - val_accuracy: 0.3333\n",
            "Epoch 19/80\n",
            "7/7 [==============================] - 2s 310ms/step - loss: 4.9038e-05 - accuracy: 1.0000 - val_loss: 1.8372 - val_accuracy: 0.3333\n",
            "Epoch 20/80\n",
            "7/7 [==============================] - 2s 297ms/step - loss: 3.0012e-05 - accuracy: 1.0000 - val_loss: 1.8998 - val_accuracy: 0.3333\n",
            "Epoch 21/80\n",
            "7/7 [==============================] - 2s 286ms/step - loss: 1.9351e-05 - accuracy: 1.0000 - val_loss: 1.9577 - val_accuracy: 0.3333\n",
            "Epoch 22/80\n",
            "7/7 [==============================] - 2s 302ms/step - loss: 1.5691e-05 - accuracy: 1.0000 - val_loss: 1.9783 - val_accuracy: 0.3333\n",
            "Epoch 23/80\n",
            "7/7 [==============================] - 2s 302ms/step - loss: 1.3020e-05 - accuracy: 1.0000 - val_loss: 1.9695 - val_accuracy: 0.6667\n",
            "Epoch 24/80\n",
            "7/7 [==============================] - 2s 298ms/step - loss: 1.1947e-05 - accuracy: 1.0000 - val_loss: 1.9403 - val_accuracy: 0.6667\n",
            "Epoch 25/80\n",
            "7/7 [==============================] - 2s 297ms/step - loss: 1.0645e-05 - accuracy: 1.0000 - val_loss: 1.9840 - val_accuracy: 0.6667\n",
            "Epoch 26/80\n",
            "7/7 [==============================] - 2s 306ms/step - loss: 9.8324e-06 - accuracy: 1.0000 - val_loss: 2.0083 - val_accuracy: 0.6667\n",
            "Epoch 27/80\n",
            "7/7 [==============================] - 2s 309ms/step - loss: 9.2496e-06 - accuracy: 1.0000 - val_loss: 2.0725 - val_accuracy: 0.6667\n",
            "Epoch 28/80\n",
            "7/7 [==============================] - 2s 290ms/step - loss: 8.8213e-06 - accuracy: 1.0000 - val_loss: 2.0988 - val_accuracy: 0.6667\n",
            "Epoch 29/80\n",
            "7/7 [==============================] - 2s 282ms/step - loss: 8.1194e-06 - accuracy: 1.0000 - val_loss: 2.0903 - val_accuracy: 0.6667\n",
            "Epoch 30/80\n",
            "7/7 [==============================] - 2s 311ms/step - loss: 7.8545e-06 - accuracy: 1.0000 - val_loss: 2.0736 - val_accuracy: 0.6667\n",
            "Epoch 31/80\n",
            "7/7 [==============================] - 2s 328ms/step - loss: 7.5322e-06 - accuracy: 1.0000 - val_loss: 2.1213 - val_accuracy: 0.6667\n",
            "Epoch 32/80\n",
            "7/7 [==============================] - 2s 278ms/step - loss: 6.9626e-06 - accuracy: 1.0000 - val_loss: 2.0966 - val_accuracy: 0.6667\n",
            "Epoch 33/80\n",
            "7/7 [==============================] - 2s 299ms/step - loss: 6.8478e-06 - accuracy: 1.0000 - val_loss: 2.0871 - val_accuracy: 0.6667\n",
            "Epoch 34/80\n",
            "7/7 [==============================] - 2s 310ms/step - loss: 6.2562e-06 - accuracy: 1.0000 - val_loss: 2.1403 - val_accuracy: 0.6667\n",
            "Epoch 35/80\n",
            "7/7 [==============================] - 2s 292ms/step - loss: 6.1547e-06 - accuracy: 1.0000 - val_loss: 2.2126 - val_accuracy: 0.6667\n",
            "Epoch 36/80\n",
            "7/7 [==============================] - 2s 284ms/step - loss: 5.9427e-06 - accuracy: 1.0000 - val_loss: 2.2199 - val_accuracy: 0.6667\n",
            "Epoch 37/80\n",
            "7/7 [==============================] - 2s 279ms/step - loss: 6.0884e-06 - accuracy: 1.0000 - val_loss: 2.1213 - val_accuracy: 0.6667\n",
            "Epoch 38/80\n",
            "7/7 [==============================] - 2s 294ms/step - loss: 5.3246e-06 - accuracy: 1.0000 - val_loss: 2.1449 - val_accuracy: 0.6667\n",
            "Epoch 39/80\n",
            "7/7 [==============================] - 2s 309ms/step - loss: 5.2054e-06 - accuracy: 1.0000 - val_loss: 2.2181 - val_accuracy: 0.6667\n",
            "Epoch 40/80\n",
            "7/7 [==============================] - 2s 269ms/step - loss: 4.6447e-06 - accuracy: 1.0000 - val_loss: 2.2289 - val_accuracy: 0.6667\n",
            "Epoch 41/80\n",
            "7/7 [==============================] - 2s 280ms/step - loss: 4.4416e-06 - accuracy: 1.0000 - val_loss: 2.2189 - val_accuracy: 0.6667\n",
            "Epoch 42/80\n",
            "7/7 [==============================] - 2s 288ms/step - loss: 4.1546e-06 - accuracy: 1.0000 - val_loss: 2.2068 - val_accuracy: 0.6667\n",
            "Epoch 43/80\n",
            "7/7 [==============================] - 2s 291ms/step - loss: 3.8986e-06 - accuracy: 1.0000 - val_loss: 2.2016 - val_accuracy: 0.6667\n",
            "Epoch 44/80\n",
            "7/7 [==============================] - 2s 273ms/step - loss: 3.7794e-06 - accuracy: 1.0000 - val_loss: 2.1978 - val_accuracy: 0.6667\n",
            "Epoch 45/80\n",
            "7/7 [==============================] - 2s 288ms/step - loss: 3.5586e-06 - accuracy: 1.0000 - val_loss: 2.2251 - val_accuracy: 0.6667\n",
            "Epoch 46/80\n",
            "7/7 [==============================] - 2s 299ms/step - loss: 3.1480e-06 - accuracy: 1.0000 - val_loss: 2.2427 - val_accuracy: 0.6667\n",
            "Epoch 47/80\n",
            "7/7 [==============================] - 2s 285ms/step - loss: 2.5608e-06 - accuracy: 1.0000 - val_loss: 2.1653 - val_accuracy: 0.6667\n",
            "Epoch 48/80\n",
            "7/7 [==============================] - 2s 305ms/step - loss: 2.1678e-06 - accuracy: 1.0000 - val_loss: 2.1062 - val_accuracy: 0.6667\n",
            "Epoch 49/80\n",
            "7/7 [==============================] - 2s 291ms/step - loss: 1.9382e-06 - accuracy: 1.0000 - val_loss: 2.1253 - val_accuracy: 0.6667\n",
            "Epoch 50/80\n",
            "7/7 [==============================] - 2s 278ms/step - loss: 1.7263e-06 - accuracy: 1.0000 - val_loss: 2.1894 - val_accuracy: 0.6667\n",
            "Epoch 51/80\n",
            "7/7 [==============================] - 2s 289ms/step - loss: 1.5895e-06 - accuracy: 1.0000 - val_loss: 2.2356 - val_accuracy: 0.6667\n",
            "Epoch 52/80\n",
            "7/7 [==============================] - 2s 279ms/step - loss: 1.4526e-06 - accuracy: 1.0000 - val_loss: 2.2217 - val_accuracy: 0.6667\n",
            "Epoch 53/80\n",
            "7/7 [==============================] - 2s 286ms/step - loss: 1.3643e-06 - accuracy: 1.0000 - val_loss: 2.2296 - val_accuracy: 0.6667\n",
            "Epoch 54/80\n",
            "7/7 [==============================] - 2s 279ms/step - loss: 1.3157e-06 - accuracy: 1.0000 - val_loss: 2.2888 - val_accuracy: 0.6667\n",
            "Epoch 55/80\n",
            "7/7 [==============================] - 2s 289ms/step - loss: 1.2098e-06 - accuracy: 1.0000 - val_loss: 2.2581 - val_accuracy: 0.6667\n",
            "Epoch 56/80\n",
            "7/7 [==============================] - 2s 286ms/step - loss: 1.1214e-06 - accuracy: 1.0000 - val_loss: 2.2465 - val_accuracy: 0.6667\n",
            "Epoch 57/80\n",
            "7/7 [==============================] - 2s 285ms/step - loss: 1.0773e-06 - accuracy: 1.0000 - val_loss: 2.2684 - val_accuracy: 0.6667\n",
            "Epoch 58/80\n",
            "7/7 [==============================] - 2s 281ms/step - loss: 1.0243e-06 - accuracy: 1.0000 - val_loss: 2.2688 - val_accuracy: 0.6667\n",
            "Epoch 59/80\n",
            "7/7 [==============================] - 2s 271ms/step - loss: 9.5809e-07 - accuracy: 1.0000 - val_loss: 2.2834 - val_accuracy: 0.6667\n",
            "Epoch 60/80\n",
            "7/7 [==============================] - 2s 286ms/step - loss: 9.2718e-07 - accuracy: 1.0000 - val_loss: 2.3257 - val_accuracy: 0.6667\n",
            "Epoch 61/80\n",
            "7/7 [==============================] - 2s 277ms/step - loss: 8.6095e-07 - accuracy: 1.0000 - val_loss: 2.3046 - val_accuracy: 0.6667\n",
            "Epoch 62/80\n",
            "7/7 [==============================] - 2s 277ms/step - loss: 8.2563e-07 - accuracy: 1.0000 - val_loss: 2.3182 - val_accuracy: 0.6667\n",
            "Epoch 63/80\n",
            "7/7 [==============================] - 2s 286ms/step - loss: 7.6824e-07 - accuracy: 1.0000 - val_loss: 2.3237 - val_accuracy: 0.6667\n",
            "Epoch 64/80\n",
            "7/7 [==============================] - 2s 285ms/step - loss: 7.4616e-07 - accuracy: 1.0000 - val_loss: 2.3118 - val_accuracy: 0.6667\n",
            "Epoch 65/80\n",
            "7/7 [==============================] - 2s 278ms/step - loss: 7.3292e-07 - accuracy: 1.0000 - val_loss: 2.2894 - val_accuracy: 0.6667\n",
            "Epoch 66/80\n",
            "7/7 [==============================] - 2s 280ms/step - loss: 6.7552e-07 - accuracy: 1.0000 - val_loss: 2.3169 - val_accuracy: 0.6667\n",
            "Epoch 67/80\n",
            "7/7 [==============================] - 2s 277ms/step - loss: 6.5344e-07 - accuracy: 1.0000 - val_loss: 2.3541 - val_accuracy: 0.6667\n",
            "Epoch 68/80\n",
            "7/7 [==============================] - 2s 280ms/step - loss: 6.2695e-07 - accuracy: 1.0000 - val_loss: 2.3871 - val_accuracy: 0.6667\n",
            "Epoch 69/80\n",
            "7/7 [==============================] - 2s 283ms/step - loss: 6.0046e-07 - accuracy: 1.0000 - val_loss: 2.3775 - val_accuracy: 0.6667\n",
            "Epoch 70/80\n",
            "7/7 [==============================] - 2s 274ms/step - loss: 5.6514e-07 - accuracy: 1.0000 - val_loss: 2.3554 - val_accuracy: 0.6667\n",
            "Epoch 71/80\n",
            "7/7 [==============================] - 2s 282ms/step - loss: 5.5631e-07 - accuracy: 1.0000 - val_loss: 2.3867 - val_accuracy: 0.6667\n",
            "Epoch 72/80\n",
            "7/7 [==============================] - 2s 277ms/step - loss: 5.3423e-07 - accuracy: 1.0000 - val_loss: 2.3965 - val_accuracy: 0.6667\n",
            "Epoch 73/80\n",
            "7/7 [==============================] - 2s 279ms/step - loss: 5.2099e-07 - accuracy: 1.0000 - val_loss: 2.3717 - val_accuracy: 0.6667\n",
            "Epoch 74/80\n",
            "7/7 [==============================] - 2s 284ms/step - loss: 4.9891e-07 - accuracy: 1.0000 - val_loss: 2.3780 - val_accuracy: 0.6667\n",
            "Epoch 75/80\n",
            "7/7 [==============================] - 2s 276ms/step - loss: 4.7684e-07 - accuracy: 1.0000 - val_loss: 2.3877 - val_accuracy: 0.6667\n",
            "Epoch 76/80\n",
            "7/7 [==============================] - 2s 288ms/step - loss: 4.5918e-07 - accuracy: 1.0000 - val_loss: 2.3789 - val_accuracy: 0.6667\n",
            "Epoch 77/80\n",
            "7/7 [==============================] - 2s 276ms/step - loss: 4.4152e-07 - accuracy: 1.0000 - val_loss: 2.4085 - val_accuracy: 0.6667\n",
            "Epoch 78/80\n",
            "7/7 [==============================] - 2s 291ms/step - loss: 4.3269e-07 - accuracy: 1.0000 - val_loss: 2.4201 - val_accuracy: 0.6667\n",
            "Epoch 79/80\n",
            "7/7 [==============================] - 2s 278ms/step - loss: 4.1502e-07 - accuracy: 1.0000 - val_loss: 2.4390 - val_accuracy: 0.6667\n",
            "Epoch 80/80\n",
            "7/7 [==============================] - 2s 278ms/step - loss: 4.1061e-07 - accuracy: 1.0000 - val_loss: 2.4141 - val_accuracy: 0.6667\n"
          ]
        }
      ]
    },
    {
      "cell_type": "code",
      "source": [
        "import matplotlib.pyplot as plt\n",
        "\n",
        "plt.plot(history.history['accuracy'],color='red',label='train')\n",
        "plt.plot(history.history['val_accuracy'],color='blue',label='validation')\n",
        "plt.legend()\n",
        "plt.show()"
      ],
      "metadata": {
        "id": "5fqISAZIbzKe",
        "colab": {
          "base_uri": "https://localhost:8080/",
          "height": 430
        },
        "outputId": "6d863ec7-0ee7-4c61-8b66-02a6ce5b0a51"
      },
      "execution_count": null,
      "outputs": [
        {
          "output_type": "display_data",
          "data": {
            "text/plain": [
              "<Figure size 640x480 with 1 Axes>"
            ],
            "image/png": "[encoded data removed]"
          },
          "metadata": {}
        }
      ]
    },
    {
      "cell_type": "code",
      "source": [
        "plt.plot(history.history['loss'],color='red',label='train')\n",
        "plt.plot(history.history['val_loss'],color='blue',label='validation')\n",
        "plt.legend()\n",
        "plt.show()"
      ],
      "metadata": {
        "id": "mb5hr3ZTb56o",
        "colab": {
          "base_uri": "https://localhost:8080/",
          "height": 435
        },
        "outputId": "0b38092d-2be8-4b14-97be-a071263612a6"
      },
      "execution_count": null,
      "outputs": [
        {
          "output_type": "display_data",
          "data": {
            "text/plain": [
              "<Figure size 640x480 with 1 Axes>"
            ],
            "image/png": "[encoded data removed]"
          },
          "metadata": {}
        }
      ]
    },
    {
      "cell_type": "code",
      "source": [
        "import cv2"
      ],
      "metadata": {
        "id": "OqYc676fb8ys"
      },
      "execution_count": null,
      "outputs": []
    },
    {
      "cell_type": "code",
      "source": [
        "test_img = cv2.imread('/content/test/cat_test/cat_1.jpg')\n",
        "test_img = cv2.resize(test_img, (255, 255))\n",
        "test_img = test_img / 255.0\n",
        "test_input = test_img.reshape((1, 255, 255, 3))\n",
        "model.predict(test_input)"
      ],
      "metadata": {
        "id": "qONGS2-FcGmT",
        "colab": {
          "base_uri": "https://localhost:8080/"
        },
        "outputId": "d24549b9-3a9e-457b-b396-60eb23d32938"
      },
      "execution_count": null,
      "outputs": [
        {
          "output_type": "stream",
          "name": "stdout",
          "text": [
            "1/1 [==============================] - 0s 128ms/step\n"
          ]
        },
        {
          "output_type": "execute_result",
          "data": {
            "text/plain": [
              "array([[4.0050187e-21, 9.9505794e-01, 4.9420190e-03]], dtype=float32)"
            ]
          },
          "metadata": {},
          "execution_count": 23
        }
      ]
    },
    {
      "cell_type": "code",
      "source": [
        "test_img = cv2.imread('/content/test/cow_test/cow_2.jpg')\n",
        "test_img = cv2.resize(test_img, (255, 255))\n",
        "test_img = test_img / 255.0\n",
        "test_input = test_img.reshape((1, 255, 255, 3))\n",
        "model.predict(test_input)"
      ],
      "metadata": {
        "id": "3XXPGI4BcJgS",
        "colab": {
          "base_uri": "https://localhost:8080/"
        },
        "outputId": "82008b31-9a3f-4136-d9f7-29811471ec96"
      },
      "execution_count": null,
      "outputs": [
        {
          "output_type": "stream",
          "name": "stdout",
          "text": [
            "1/1 [==============================] - 0s 42ms/step\n"
          ]
        },
        {
          "output_type": "execute_result",
          "data": {
            "text/plain": [
              "array([[5.3386267e-12, 7.5304380e-04, 9.9924695e-01]], dtype=float32)"
            ]
          },
          "metadata": {},
          "execution_count": 24
        }
      ]
    },
    {
      "cell_type": "code",
      "source": [
        "test_img = cv2.imread('/content/test/dog_test/dog_3.jpg')\n",
        "test_img = cv2.resize(test_img, (255, 255))\n",
        "test_img = test_img / 255.0\n",
        "test_input = test_img.reshape((1, 255, 255, 3))\n",
        "model.predict(test_input)"
      ],
      "metadata": {
        "id": "ZWggyLCJca6M",
        "colab": {
          "base_uri": "https://localhost:8080/"
        },
        "outputId": "7303ce6e-53ab-4685-f98a-9f6b1b92a44b"
      },
      "execution_count": null,
      "outputs": [
        {
          "output_type": "stream",
          "name": "stdout",
          "text": [
            "1/1 [==============================] - 0s 39ms/step\n"
          ]
        },
        {
          "output_type": "execute_result",
          "data": {
            "text/plain": [
              "array([[1.1259661e-14, 1.1170950e-03, 9.9888295e-01]], dtype=float32)"
            ]
          },
          "metadata": {},
          "execution_count": 25
        }
      ]
    },
    {
      "cell_type": "code",
      "source": [
        "# CCCM CCCM CCCM\n",
        "model = models.Sequential()\n",
        "model.add(layers.Conv2D(32, (3, 3), activation='relu', input_shape=(255, 255, 3)))\n",
        "model.add(layers.Conv2D(32, (3, 3), activation='relu'))\n",
        "model.add(layers.Conv2D(32, (3, 3), activation='relu'))\n",
        "model.add(layers.MaxPooling2D(2, 2))\n",
        "\n",
        "model.add(layers.Conv2D(64, (3, 3), activation='relu'))\n",
        "model.add(layers.Conv2D(64, (3, 3), activation='relu'))\n",
        "model.add(layers.Conv2D(64, (3, 3), activation='relu'))\n",
        "model.add(layers.MaxPooling2D(2, 2))\n",
        "\n",
        "model.add(layers.Conv2D(128, (3, 3), activation='relu'))\n",
        "model.add(layers.Conv2D(128, (3, 3), activation='relu'))\n",
        "model.add(layers.Conv2D(128, (3, 3), activation='relu'))\n",
        "model.add(layers.MaxPooling2D(2, 2))\n",
        "\n",
        "model.add(layers.Flatten())\n",
        "\n",
        "model.add(layers.Dense(128, activation='relu'))\n",
        "model.add(layers.Dense(64, activation='relu'))\n",
        "model.add(layers.Dense(3, activation='softmax'))"
      ],
      "metadata": {
        "id": "hljVGOB6oYKg"
      },
      "execution_count": null,
      "outputs": []
    },
    {
      "cell_type": "code",
      "source": [
        "model.summary()"
      ],
      "metadata": {
        "id": "PEsXvXAv-MqK",
        "colab": {
          "base_uri": "https://localhost:8080/"
        },
        "outputId": "f275bae9-377a-4e9a-9240-e60c93a5dd64"
      },
      "execution_count": null,
      "outputs": [
        {
          "output_type": "stream",
          "name": "stdout",
          "text": [
            "Model: \"sequential_2\"\n",
            "_________________________________________________________________\n",
            " Layer (type)                Output Shape              Param #   \n",
            "=================================================================\n",
            " conv2d_9 (Conv2D)           (None, 253, 253, 32)      896       \n",
            "                                                                 \n",
            " conv2d_10 (Conv2D)          (None, 251, 251, 32)      9248      \n",
            "                                                                 \n",
            " conv2d_11 (Conv2D)          (None, 249, 249, 32)      9248      \n",
            "                                                                 \n",
            " max_pooling2d_6 (MaxPoolin  (None, 124, 124, 32)      0         \n",
            " g2D)                                                            \n",
            "                                                                 \n",
            " conv2d_12 (Conv2D)          (None, 122, 122, 64)      18496     \n",
            "                                                                 \n",
            " conv2d_13 (Conv2D)          (None, 120, 120, 64)      36928     \n",
            "                                                                 \n",
            " conv2d_14 (Conv2D)          (None, 118, 118, 64)      36928     \n",
            "                                                                 \n",
            " max_pooling2d_7 (MaxPoolin  (None, 59, 59, 64)        0         \n",
            " g2D)                                                            \n",
            "                                                                 \n",
            " conv2d_15 (Conv2D)          (None, 57, 57, 128)       73856     \n",
            "                                                                 \n",
            " conv2d_16 (Conv2D)          (None, 55, 55, 128)       147584    \n",
            "                                                                 \n",
            " conv2d_17 (Conv2D)          (None, 53, 53, 128)       147584    \n",
            "                                                                 \n",
            " max_pooling2d_8 (MaxPoolin  (None, 26, 26, 128)       0         \n",
            " g2D)                                                            \n",
            "                                                                 \n",
            " flatten_2 (Flatten)         (None, 86528)             0         \n",
            "                                                                 \n",
            " dense_6 (Dense)             (None, 128)               11075712  \n",
            "                                                                 \n",
            " dense_7 (Dense)             (None, 64)                8256      \n",
            "                                                                 \n",
            " dense_8 (Dense)             (None, 3)                 195       \n",
            "                                                                 \n",
            "=================================================================\n",
            "Total params: 11564931 (44.12 MB)\n",
            "Trainable params: 11564931 (44.12 MB)\n",
            "Non-trainable params: 0 (0.00 Byte)\n",
            "_________________________________________________________________\n"
          ]
        }
      ]
    },
    {
      "cell_type": "code",
      "source": [
        "model.compile(optimizer='adam', loss='categorical_crossentropy', metrics=['accuracy'])\n",
        "history=model.fit(images, labels, epochs=80, batch_size=4, validation_split=0.1)"
      ],
      "metadata": {
        "id": "8XrZUMjjAKir",
        "colab": {
          "base_uri": "https://localhost:8080/"
        },
        "outputId": "8ea5d37c-5710-4f39-e1ea-d192770f9f38"
      },
      "execution_count": null,
      "outputs": [
        {
          "output_type": "stream",
          "name": "stdout",
          "text": [
            "Epoch 1/80\n",
            "7/7 [==============================] - 5s 453ms/step - loss: 1.0575 - accuracy: 0.4444 - val_loss: 1.1621 - val_accuracy: 0.0000e+00\n",
            "Epoch 2/80\n",
            "7/7 [==============================] - 3s 418ms/step - loss: 1.1312 - accuracy: 0.3704 - val_loss: 1.1669 - val_accuracy: 0.0000e+00\n",
            "Epoch 3/80\n",
            "7/7 [==============================] - 3s 399ms/step - loss: 1.1022 - accuracy: 0.2222 - val_loss: 1.1018 - val_accuracy: 0.0000e+00\n",
            "Epoch 4/80\n",
            "7/7 [==============================] - 3s 405ms/step - loss: 1.0861 - accuracy: 0.3704 - val_loss: 1.2090 - val_accuracy: 0.0000e+00\n",
            "Epoch 5/80\n",
            "7/7 [==============================] - 3s 396ms/step - loss: 0.8708 - accuracy: 0.4815 - val_loss: 1.4027 - val_accuracy: 0.0000e+00\n",
            "Epoch 6/80\n",
            "7/7 [==============================] - 3s 422ms/step - loss: 0.8813 - accuracy: 0.7037 - val_loss: 1.1040 - val_accuracy: 0.0000e+00\n",
            "Epoch 7/80\n",
            "7/7 [==============================] - 3s 410ms/step - loss: 0.6192 - accuracy: 0.8148 - val_loss: 0.0878 - val_accuracy: 1.0000\n",
            "Epoch 8/80\n",
            "7/7 [==============================] - 3s 406ms/step - loss: 0.5089 - accuracy: 0.7778 - val_loss: 5.4684 - val_accuracy: 0.0000e+00\n",
            "Epoch 9/80\n",
            "7/7 [==============================] - 3s 414ms/step - loss: 0.6806 - accuracy: 0.7407 - val_loss: 2.9746 - val_accuracy: 0.0000e+00\n",
            "Epoch 10/80\n",
            "7/7 [==============================] - 3s 412ms/step - loss: 0.7311 - accuracy: 0.7037 - val_loss: 1.6356 - val_accuracy: 0.0000e+00\n",
            "Epoch 11/80\n",
            "7/7 [==============================] - 3s 397ms/step - loss: 0.3692 - accuracy: 0.8148 - val_loss: 3.2016 - val_accuracy: 0.0000e+00\n",
            "Epoch 12/80\n",
            "7/7 [==============================] - 3s 399ms/step - loss: 0.7359 - accuracy: 0.7407 - val_loss: 0.6601 - val_accuracy: 0.6667\n",
            "Epoch 13/80\n",
            "7/7 [==============================] - 3s 410ms/step - loss: 0.3239 - accuracy: 0.8519 - val_loss: 2.2200 - val_accuracy: 0.0000e+00\n",
            "Epoch 14/80\n",
            "7/7 [==============================] - 3s 412ms/step - loss: 0.2617 - accuracy: 0.8519 - val_loss: 2.7668 - val_accuracy: 0.0000e+00\n",
            "Epoch 15/80\n",
            "7/7 [==============================] - 3s 401ms/step - loss: 0.1510 - accuracy: 0.9630 - val_loss: 2.6762 - val_accuracy: 0.0000e+00\n",
            "Epoch 16/80\n",
            "7/7 [==============================] - 3s 406ms/step - loss: 1.7765 - accuracy: 0.8148 - val_loss: 0.2533 - val_accuracy: 1.0000\n",
            "Epoch 17/80\n",
            "7/7 [==============================] - 3s 409ms/step - loss: 0.7035 - accuracy: 0.8148 - val_loss: 1.3853 - val_accuracy: 0.0000e+00\n",
            "Epoch 18/80\n",
            "7/7 [==============================] - 3s 399ms/step - loss: 0.6548 - accuracy: 0.8148 - val_loss: 1.0723 - val_accuracy: 0.0000e+00\n",
            "Epoch 19/80\n",
            "7/7 [==============================] - 3s 404ms/step - loss: 0.0938 - accuracy: 1.0000 - val_loss: 1.9884 - val_accuracy: 0.0000e+00\n",
            "Epoch 20/80\n",
            "7/7 [==============================] - 3s 401ms/step - loss: 2.1183 - accuracy: 0.7037 - val_loss: 5.5935 - val_accuracy: 0.0000e+00\n",
            "Epoch 21/80\n",
            "7/7 [==============================] - 3s 393ms/step - loss: 0.6828 - accuracy: 0.7407 - val_loss: 4.7767 - val_accuracy: 0.0000e+00\n",
            "Epoch 22/80\n",
            "7/7 [==============================] - 3s 393ms/step - loss: 0.5944 - accuracy: 0.8519 - val_loss: 1.1137 - val_accuracy: 0.6667\n",
            "Epoch 23/80\n",
            "7/7 [==============================] - 3s 382ms/step - loss: 0.1335 - accuracy: 0.9630 - val_loss: 2.0694 - val_accuracy: 0.3333\n",
            "Epoch 24/80\n",
            "7/7 [==============================] - 3s 388ms/step - loss: 0.1628 - accuracy: 0.9630 - val_loss: 2.4757 - val_accuracy: 0.3333\n",
            "Epoch 25/80\n",
            "7/7 [==============================] - 3s 402ms/step - loss: 0.0418 - accuracy: 1.0000 - val_loss: 0.6405 - val_accuracy: 0.6667\n",
            "Epoch 26/80\n",
            "7/7 [==============================] - 3s 398ms/step - loss: 0.1389 - accuracy: 0.9630 - val_loss: 0.9293 - val_accuracy: 0.6667\n",
            "Epoch 27/80\n",
            "7/7 [==============================] - 3s 398ms/step - loss: 0.0725 - accuracy: 0.9630 - val_loss: 12.4958 - val_accuracy: 0.0000e+00\n",
            "Epoch 28/80\n",
            "7/7 [==============================] - 3s 395ms/step - loss: 0.2790 - accuracy: 0.9259 - val_loss: 5.5959 - val_accuracy: 0.6667\n",
            "Epoch 29/80\n",
            "7/7 [==============================] - 3s 396ms/step - loss: 0.0146 - accuracy: 1.0000 - val_loss: 4.2365 - val_accuracy: 0.0000e+00\n",
            "Epoch 30/80\n",
            "7/7 [==============================] - 3s 400ms/step - loss: 0.0099 - accuracy: 1.0000 - val_loss: 4.9354 - val_accuracy: 0.0000e+00\n",
            "Epoch 31/80\n",
            "7/7 [==============================] - 3s 396ms/step - loss: 4.3401e-04 - accuracy: 1.0000 - val_loss: 4.9995 - val_accuracy: 0.0000e+00\n",
            "Epoch 32/80\n",
            "7/7 [==============================] - 3s 407ms/step - loss: 1.9981e-05 - accuracy: 1.0000 - val_loss: 4.7998 - val_accuracy: 0.0000e+00\n",
            "Epoch 33/80\n",
            "7/7 [==============================] - 3s 390ms/step - loss: 4.3400e-06 - accuracy: 1.0000 - val_loss: 4.9091 - val_accuracy: 0.0000e+00\n",
            "Epoch 34/80\n",
            "7/7 [==============================] - 3s 396ms/step - loss: 2.4062e-06 - accuracy: 1.0000 - val_loss: 5.1288 - val_accuracy: 0.0000e+00\n",
            "Epoch 35/80\n",
            "7/7 [==============================] - 3s 403ms/step - loss: 2.1148e-06 - accuracy: 1.0000 - val_loss: 5.2748 - val_accuracy: 0.0000e+00\n",
            "Epoch 36/80\n",
            "7/7 [==============================] - 3s 392ms/step - loss: 2.0839e-06 - accuracy: 1.0000 - val_loss: 5.3427 - val_accuracy: 0.0000e+00\n",
            "Epoch 37/80\n",
            "7/7 [==============================] - 3s 403ms/step - loss: 1.9250e-06 - accuracy: 1.0000 - val_loss: 5.3654 - val_accuracy: 0.0000e+00\n",
            "Epoch 38/80\n",
            "7/7 [==============================] - 3s 408ms/step - loss: 1.7528e-06 - accuracy: 1.0000 - val_loss: 5.4027 - val_accuracy: 0.0000e+00\n",
            "Epoch 39/80\n",
            "7/7 [==============================] - 3s 395ms/step - loss: 1.6557e-06 - accuracy: 1.0000 - val_loss: 5.3585 - val_accuracy: 0.0000e+00\n",
            "Epoch 40/80\n",
            "7/7 [==============================] - 3s 396ms/step - loss: 1.3996e-06 - accuracy: 1.0000 - val_loss: 5.3326 - val_accuracy: 0.0000e+00\n",
            "Epoch 41/80\n",
            "7/7 [==============================] - 3s 408ms/step - loss: 1.2583e-06 - accuracy: 1.0000 - val_loss: 5.3306 - val_accuracy: 0.0000e+00\n",
            "Epoch 42/80\n",
            "7/7 [==============================] - 3s 400ms/step - loss: 1.1391e-06 - accuracy: 1.0000 - val_loss: 5.3278 - val_accuracy: 0.0000e+00\n",
            "Epoch 43/80\n",
            "7/7 [==============================] - 3s 406ms/step - loss: 1.0464e-06 - accuracy: 1.0000 - val_loss: 5.3485 - val_accuracy: 0.0000e+00\n",
            "Epoch 44/80\n",
            "7/7 [==============================] - 3s 410ms/step - loss: 9.5808e-07 - accuracy: 1.0000 - val_loss: 5.3415 - val_accuracy: 0.0000e+00\n",
            "Epoch 45/80\n",
            "7/7 [==============================] - 3s 403ms/step - loss: 9.0069e-07 - accuracy: 1.0000 - val_loss: 5.3471 - val_accuracy: 0.0000e+00\n",
            "Epoch 46/80\n",
            "7/7 [==============================] - 3s 410ms/step - loss: 8.5654e-07 - accuracy: 1.0000 - val_loss: 5.3534 - val_accuracy: 0.0000e+00\n",
            "Epoch 47/80\n",
            "7/7 [==============================] - 3s 399ms/step - loss: 7.9473e-07 - accuracy: 1.0000 - val_loss: 5.3615 - val_accuracy: 0.0000e+00\n",
            "Epoch 48/80\n",
            "7/7 [==============================] - 3s 399ms/step - loss: 7.5940e-07 - accuracy: 1.0000 - val_loss: 5.3623 - val_accuracy: 0.0000e+00\n",
            "Epoch 49/80\n",
            "7/7 [==============================] - 3s 395ms/step - loss: 7.0642e-07 - accuracy: 1.0000 - val_loss: 5.3599 - val_accuracy: 0.0000e+00\n",
            "Epoch 50/80\n",
            "7/7 [==============================] - 3s 392ms/step - loss: 6.8435e-07 - accuracy: 1.0000 - val_loss: 5.3640 - val_accuracy: 0.0000e+00\n",
            "Epoch 51/80\n",
            "7/7 [==============================] - 3s 393ms/step - loss: 6.4461e-07 - accuracy: 1.0000 - val_loss: 5.3661 - val_accuracy: 0.0000e+00\n",
            "Epoch 52/80\n",
            "7/7 [==============================] - 3s 395ms/step - loss: 6.0929e-07 - accuracy: 1.0000 - val_loss: 5.3702 - val_accuracy: 0.0000e+00\n",
            "Epoch 53/80\n",
            "7/7 [==============================] - 3s 401ms/step - loss: 5.8280e-07 - accuracy: 1.0000 - val_loss: 5.3863 - val_accuracy: 0.0000e+00\n",
            "Epoch 54/80\n",
            "7/7 [==============================] - 3s 403ms/step - loss: 5.5631e-07 - accuracy: 1.0000 - val_loss: 5.3908 - val_accuracy: 0.0000e+00\n",
            "Epoch 55/80\n",
            "7/7 [==============================] - 3s 407ms/step - loss: 5.3423e-07 - accuracy: 1.0000 - val_loss: 5.3954 - val_accuracy: 0.0000e+00\n",
            "Epoch 56/80\n",
            "7/7 [==============================] - 3s 394ms/step - loss: 5.2099e-07 - accuracy: 1.0000 - val_loss: 5.3973 - val_accuracy: 0.0000e+00\n",
            "Epoch 57/80\n",
            "7/7 [==============================] - 3s 397ms/step - loss: 4.9891e-07 - accuracy: 1.0000 - val_loss: 5.4038 - val_accuracy: 0.0000e+00\n",
            "Epoch 58/80\n",
            "7/7 [==============================] - 3s 390ms/step - loss: 4.8125e-07 - accuracy: 1.0000 - val_loss: 5.4090 - val_accuracy: 0.0000e+00\n",
            "Epoch 59/80\n",
            "7/7 [==============================] - 3s 396ms/step - loss: 4.5918e-07 - accuracy: 1.0000 - val_loss: 5.4249 - val_accuracy: 0.0000e+00\n",
            "Epoch 60/80\n",
            "7/7 [==============================] - 3s 397ms/step - loss: 4.4151e-07 - accuracy: 1.0000 - val_loss: 5.4349 - val_accuracy: 0.0000e+00\n",
            "Epoch 61/80\n",
            "7/7 [==============================] - 3s 404ms/step - loss: 4.2385e-07 - accuracy: 1.0000 - val_loss: 5.4382 - val_accuracy: 0.0000e+00\n",
            "Epoch 62/80\n",
            "7/7 [==============================] - 3s 400ms/step - loss: 4.1061e-07 - accuracy: 1.0000 - val_loss: 5.4532 - val_accuracy: 0.0000e+00\n",
            "Epoch 63/80\n",
            "7/7 [==============================] - 3s 381ms/step - loss: 3.9736e-07 - accuracy: 1.0000 - val_loss: 5.4662 - val_accuracy: 0.0000e+00\n",
            "Epoch 64/80\n",
            "7/7 [==============================] - 3s 416ms/step - loss: 3.7970e-07 - accuracy: 1.0000 - val_loss: 5.4785 - val_accuracy: 0.0000e+00\n",
            "Epoch 65/80\n",
            "7/7 [==============================] - 3s 398ms/step - loss: 3.7087e-07 - accuracy: 1.0000 - val_loss: 5.4879 - val_accuracy: 0.0000e+00\n",
            "Epoch 66/80\n",
            "7/7 [==============================] - 3s 401ms/step - loss: 3.5321e-07 - accuracy: 1.0000 - val_loss: 5.5004 - val_accuracy: 0.0000e+00\n",
            "Epoch 67/80\n",
            "7/7 [==============================] - 3s 394ms/step - loss: 3.3997e-07 - accuracy: 1.0000 - val_loss: 5.5076 - val_accuracy: 0.0000e+00\n",
            "Epoch 68/80\n",
            "7/7 [==============================] - 3s 406ms/step - loss: 3.3114e-07 - accuracy: 1.0000 - val_loss: 5.5179 - val_accuracy: 0.0000e+00\n",
            "Epoch 69/80\n",
            "7/7 [==============================] - 3s 396ms/step - loss: 3.1789e-07 - accuracy: 1.0000 - val_loss: 5.5223 - val_accuracy: 0.0000e+00\n",
            "Epoch 70/80\n",
            "7/7 [==============================] - 3s 390ms/step - loss: 3.0465e-07 - accuracy: 1.0000 - val_loss: 5.5320 - val_accuracy: 0.0000e+00\n",
            "Epoch 71/80\n",
            "7/7 [==============================] - 3s 392ms/step - loss: 2.9582e-07 - accuracy: 1.0000 - val_loss: 5.5495 - val_accuracy: 0.0000e+00\n",
            "Epoch 72/80\n",
            "7/7 [==============================] - 3s 411ms/step - loss: 2.8257e-07 - accuracy: 1.0000 - val_loss: 5.5631 - val_accuracy: 0.0000e+00\n",
            "Epoch 73/80\n",
            "7/7 [==============================] - 3s 393ms/step - loss: 2.7374e-07 - accuracy: 1.0000 - val_loss: 5.5763 - val_accuracy: 0.0000e+00\n",
            "Epoch 74/80\n",
            "7/7 [==============================] - 3s 395ms/step - loss: 2.6491e-07 - accuracy: 1.0000 - val_loss: 5.5849 - val_accuracy: 0.0000e+00\n",
            "Epoch 75/80\n",
            "7/7 [==============================] - 3s 392ms/step - loss: 2.5166e-07 - accuracy: 1.0000 - val_loss: 5.5933 - val_accuracy: 0.0000e+00\n",
            "Epoch 76/80\n",
            "7/7 [==============================] - 3s 405ms/step - loss: 2.4283e-07 - accuracy: 1.0000 - val_loss: 5.6006 - val_accuracy: 0.0000e+00\n",
            "Epoch 77/80\n",
            "7/7 [==============================] - 3s 399ms/step - loss: 2.3842e-07 - accuracy: 1.0000 - val_loss: 5.6074 - val_accuracy: 0.0000e+00\n",
            "Epoch 78/80\n",
            "7/7 [==============================] - 3s 400ms/step - loss: 2.3400e-07 - accuracy: 1.0000 - val_loss: 5.6131 - val_accuracy: 0.0000e+00\n",
            "Epoch 79/80\n",
            "7/7 [==============================] - 3s 395ms/step - loss: 2.2959e-07 - accuracy: 1.0000 - val_loss: 5.6198 - val_accuracy: 0.0000e+00\n",
            "Epoch 80/80\n",
            "7/7 [==============================] - 3s 401ms/step - loss: 2.2076e-07 - accuracy: 1.0000 - val_loss: 5.6287 - val_accuracy: 0.0000e+00\n"
          ]
        }
      ]
    },
    {
      "cell_type": "code",
      "source": [
        "import matplotlib.pyplot as plt\n",
        "\n",
        "plt.plot(history.history['accuracy'],color='red',label='train')\n",
        "plt.plot(history.history['val_accuracy'],color='blue',label='validation')\n",
        "plt.legend()\n",
        "plt.show()"
      ],
      "metadata": {
        "id": "68rvCTlIAQN7",
        "colab": {
          "base_uri": "https://localhost:8080/",
          "height": 430
        },
        "outputId": "e11809ac-56aa-43cb-e74d-64e091256a38"
      },
      "execution_count": null,
      "outputs": [
        {
          "output_type": "display_data",
          "data": {
            "text/plain": [
              "<Figure size 640x480 with 1 Axes>"
            ],
            "image/png": "[encoded data removed]"
          },
          "metadata": {}
        }
      ]
    },
    {
      "cell_type": "code",
      "source": [
        "plt.plot(history.history['loss'],color='red',label='train')\n",
        "plt.plot(history.history['val_loss'],color='blue',label='validation')\n",
        "plt.legend()\n",
        "plt.show()"
      ],
      "metadata": {
        "id": "obMmVwwtARDC",
        "colab": {
          "base_uri": "https://localhost:8080/",
          "height": 430
        },
        "outputId": "38414983-01ea-4f35-c220-127930b89660"
      },
      "execution_count": null,
      "outputs": [
        {
          "output_type": "display_data",
          "data": {
            "text/plain": [
              "<Figure size 640x480 with 1 Axes>"
            ],
            "image/png": "[encoded data removed]"
          },
          "metadata": {}
        }
      ]
    },
    {
      "cell_type": "code",
      "source": [
        "import cv2"
      ],
      "metadata": {
        "id": "Gv5kzcaaAVsj"
      },
      "execution_count": null,
      "outputs": []
    },
    {
      "cell_type": "code",
      "source": [
        "test_img = cv2.imread('/content/test/cat_test/cat_1.jpg')\n",
        "test_img = cv2.resize(test_img, (255, 255))\n",
        "test_img = test_img / 255.0\n",
        "test_input = test_img.reshape((1, 255, 255, 3))\n",
        "model.predict(test_input)"
      ],
      "metadata": {
        "id": "g19t8QUaAZwr",
        "colab": {
          "base_uri": "https://localhost:8080/"
        },
        "outputId": "059ccf59-8523-4a76-f6bc-0e6258b59ffb"
      },
      "execution_count": null,
      "outputs": [
        {
          "output_type": "stream",
          "name": "stdout",
          "text": [
            "1/1 [==============================] - 0s 145ms/step\n"
          ]
        },
        {
          "output_type": "execute_result",
          "data": {
            "text/plain": [
              "array([[3.8454900e-07, 1.6473024e-03, 9.9835229e-01]], dtype=float32)"
            ]
          },
          "metadata": {},
          "execution_count": 32
        }
      ]
    },
    {
      "cell_type": "code",
      "source": [
        "test_img = cv2.imread('/content/test/cow_test/cow_2.jpg')\n",
        "test_img = cv2.resize(test_img, (255, 255))\n",
        "test_img = test_img / 255.0\n",
        "test_input = test_img.reshape((1, 255, 255, 3))\n",
        "model.predict(test_input)"
      ],
      "metadata": {
        "id": "09BHEq3BAcMC",
        "colab": {
          "base_uri": "https://localhost:8080/"
        },
        "outputId": "5da55f51-42e2-4207-adc7-00c2f68e1ee4"
      },
      "execution_count": null,
      "outputs": [
        {
          "output_type": "stream",
          "name": "stdout",
          "text": [
            "1/1 [==============================] - 0s 46ms/step\n"
          ]
        },
        {
          "output_type": "execute_result",
          "data": {
            "text/plain": [
              "array([[2.7846930e-11, 1.4997292e-08, 1.0000000e+00]], dtype=float32)"
            ]
          },
          "metadata": {},
          "execution_count": 33
        }
      ]
    },
    {
      "cell_type": "code",
      "source": [
        "test_img = cv2.imread('/content/test/dog_test/dog_3.jpg')\n",
        "test_img = cv2.resize(test_img, (255, 255))\n",
        "test_img = test_img / 255.0\n",
        "test_input = test_img.reshape((1, 255, 255, 3))\n",
        "model.predict(test_input)"
      ],
      "metadata": {
        "id": "owdDmsYuAncU",
        "colab": {
          "base_uri": "https://localhost:8080/"
        },
        "outputId": "f1923a69-4bba-4d9e-eee9-39327392bb9d"
      },
      "execution_count": null,
      "outputs": [
        {
          "output_type": "stream",
          "name": "stdout",
          "text": [
            "1/1 [==============================] - 0s 44ms/step\n"
          ]
        },
        {
          "output_type": "execute_result",
          "data": {
            "text/plain": [
              "array([[8.6954336e-15, 1.7062132e-05, 9.9998295e-01]], dtype=float32)"
            ]
          },
          "metadata": {},
          "execution_count": 34
        }
      ]
    },
    {
      "cell_type": "code",
      "source": [],
      "metadata": {
        "id": "ZOCKMwYXA9Az"
      },
      "execution_count": null,
      "outputs": []
    }
  ]
}